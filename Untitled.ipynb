{
 "cells": [
  {
   "cell_type": "code",
   "execution_count": 4,
   "metadata": {},
   "outputs": [
    {
     "ename": "SyntaxError",
     "evalue": "invalid syntax (<ipython-input-4-62edce30d985>, line 4)",
     "output_type": "error",
     "traceback": [
      "\u001b[0;36m  File \u001b[0;32m\"<ipython-input-4-62edce30d985>\"\u001b[0;36m, line \u001b[0;32m4\u001b[0m\n\u001b[0;31m    import scikit-image\u001b[0m\n\u001b[0m                 ^\u001b[0m\n\u001b[0;31mSyntaxError\u001b[0m\u001b[0;31m:\u001b[0m invalid syntax\n"
     ]
    }
   ],
   "source": [
    "import os\n",
    "import numpy as np\n",
    "from PIL import Image\n",
    "import scikit-image\n",
    "from scikit-image import transform\n",
    "import matplotlib.pyplot as plt\n",
    "\n",
    "import bunch\n",
    "\n",
    "IMAGE_DIR = 'example'\n",
    "DEFAULT_SIZE = 10000  # 100x100"
   ]
  },
  {
   "cell_type": "code",
   "execution_count": 2,
   "metadata": {},
   "outputs": [],
   "source": [
    "def get_vector_representation(image_dictionary):\n",
    "    for ii, (_, image) in enumerate(image_dictionary.iteritems()):\n",
    "        if ii == 0:\n",
    "            vector_2d = image_dictionary[image_dictionary.keys()[0]].flatten()\n",
    "        else:\n",
    "            vector = image.flatten()\n",
    "            vector_2d = np.concatenate((vector_2d.T, vector.T), axis=0)\n",
    "    vector_2d = np.reshape(vector_2d, (len(image_dictionary), vector.size))\n",
    "    return vector_2d\n",
    "\n",
    "def get_pca(vector_matrix):\n",
    "    mean_vector = vector_matrix.mean(axis=0)\n",
    "    for ii in range(vector_matrix.shape[0]):\n",
    "        vector_matrix[ii] -= mean_vector\n",
    "    u, s, eigen_vector = np.linalg.svd(np.dot(vector_matrix.T, vector_matrix))\n",
    "    standard_deviation = s**2/float(len(s))\n",
    "    variance_proportion = standard_deviation / np.sum(standard_deviation)\n",
    "    pca = bunch.Bunch()\n",
    "    pca.s = s\n",
    "    pca.eigen_vector = eigen_vector[:vector_matrix.shape[0]]\n",
    "    pca.variance_proportion = variance_proportion\n",
    "    pca.mean_vector = mean_vector\n",
    "    return pca\n",
    "\n",
    "def plot_image_dictionary(self):\n",
    "    dictionary = self.image_dictionary\n",
    "    num_row_x = num_row_y = int(np.floor(np.sqrt(len(dictionary)-1))) + 1\n",
    "    fig, axarr = plt.subplots(num_row_x, num_row_y)\n",
    "    for ii, (name, v) in enumerate(dictionary.iteritems()):\n",
    "        div, rem = divmod(ii, num_row_y)\n",
    "        axarr[div, rem].imshow(v, cmap=plt.cm.gray)\n",
    "        axarr[div, rem].set_title('{}'.format(name.split(\".\")[-1]).capitalize())\n",
    "        axarr[div, rem].axis('off')\n",
    "        if ii == len(dictionary) - 1:\n",
    "            for jj in range(ii, num_row_x*num_row_y):\n",
    "                div, rem = divmod(jj, num_row_y)\n",
    "                axarr[div, rem].axis('off')\n",
    "\n",
    "def plot_eigen_vector(self, n_eigen=0):\n",
    "    plt.imshow(np.reshape(self.pca.eigen_vector[n_eigen], self.get_image_shape()), cmap=plt.cm.gray)\n",
    "\n",
    "def plot_eigen_vectors(self):\n",
    "    number = self.pca.eigen_vector.shape[0]\n",
    "    num_row_x = num_row_y = int(np.floor(np.sqrt(number-1))) + 1\n",
    "    fig, axarr = plt.subplots(num_row_x, num_row_y)\n",
    "    for ii in range(number):\n",
    "        div, rem = divmod(ii, num_row_y)\n",
    "        axarr[div, rem].imshow(np.reshape(self.pca.eigen_vector[ii], self.get_image_shape()), cmap=plt.cm.gray)\n",
    "        axarr[div, rem].axis('off')\n",
    "        if ii == number - 1:\n",
    "            for jj in range(ii, num_row_x*num_row_y):\n",
    "                div, rem = divmod(jj, num_row_y)\n",
    "                axarr[div, rem].axis('off')\n",
    "\n",
    "def get_average_weight_matrix(self):\n",
    "    return np.reshape(self.pca.mean_vector, self.get_image_shape())\n",
    "\n",
    "def plot_mean_vector(self):\n",
    "    plt.imshow(self.get_average_weight_matrix(), cmap=plt.cm.gray)\n",
    "\n",
    "def get_image_shape(self):\n",
    "    return self.image_dictionary[self.image_dictionary.keys()[0]].shape\n",
    "\n",
    "def plot_pca_components_proportions(self):\n",
    "    plt.scatter(range(self.pca.variance_proportion.size), self.pca.variance_proportion)\n",
    "\n",
    "def get_eigen_value_distribution(self):\n",
    "    return np.cumsum(self.pca.s) / np.sum(self.pca.s)\n",
    "\n",
    "def get_number_of_components_to_preserve_variance(self, variance=.95):\n",
    "    for ii, eigen_value_cumsum in enumerate(self.get_eigen_value_distribution()):\n",
    "        if eigen_value_cumsum > variance:\n",
    "            return ii\n",
    "\n",
    "def plot_eigen_value_distribution(self, interval):\n",
    "    plt.scatter(interval, self.get_eigen_value_distribution()[interval])"
   ]
  },
  {
   "cell_type": "code",
   "execution_count": 3,
   "metadata": {},
   "outputs": [
    {
     "ename": "NameError",
     "evalue": "name 'os' is not defined",
     "output_type": "error",
     "traceback": [
      "\u001b[0;31m---------------------------------------------------------------------------\u001b[0m",
      "\u001b[0;31mNameError\u001b[0m                                 Traceback (most recent call last)",
      "\u001b[0;32m<ipython-input-3-f8ade85d6c0a>\u001b[0m in \u001b[0;36m<module>\u001b[0;34m()\u001b[0m\n\u001b[1;32m      1\u001b[0m \u001b[0mimage_dictionary\u001b[0m \u001b[0;34m=\u001b[0m \u001b[0;34m{\u001b[0m\u001b[0;34m}\u001b[0m\u001b[0;34m\u001b[0m\u001b[0m\n\u001b[0;32m----> 2\u001b[0;31m \u001b[0mimage_names\u001b[0m \u001b[0;34m=\u001b[0m \u001b[0;34m[\u001b[0m\u001b[0mimage\u001b[0m \u001b[0;32mfor\u001b[0m \u001b[0mimage\u001b[0m \u001b[0;32min\u001b[0m \u001b[0mos\u001b[0m\u001b[0;34m.\u001b[0m\u001b[0mlistdir\u001b[0m\u001b[0;34m(\u001b[0m\u001b[0mimage_path\u001b[0m\u001b[0;34m)\u001b[0m \u001b[0;32mif\u001b[0m \u001b[0;32mnot\u001b[0m \u001b[0mimage\u001b[0m\u001b[0;34m.\u001b[0m\u001b[0mstartswith\u001b[0m\u001b[0;34m(\u001b[0m\u001b[0;34m'.'\u001b[0m\u001b[0;34m)\u001b[0m\u001b[0;34m]\u001b[0m\u001b[0;34m\u001b[0m\u001b[0m\n\u001b[0m\u001b[1;32m      3\u001b[0m \u001b[0;32mfor\u001b[0m \u001b[0mimage_name\u001b[0m \u001b[0;32min\u001b[0m \u001b[0mimage_names\u001b[0m\u001b[0;34m:\u001b[0m\u001b[0;34m\u001b[0m\u001b[0m\n\u001b[1;32m      4\u001b[0m     \u001b[0mimage\u001b[0m \u001b[0;34m=\u001b[0m \u001b[0mnp\u001b[0m\u001b[0;34m.\u001b[0m\u001b[0masarray\u001b[0m\u001b[0;34m(\u001b[0m\u001b[0mImage\u001b[0m\u001b[0;34m.\u001b[0m\u001b[0mopen\u001b[0m\u001b[0;34m(\u001b[0m\u001b[0mos\u001b[0m\u001b[0;34m.\u001b[0m\u001b[0mpath\u001b[0m\u001b[0;34m.\u001b[0m\u001b[0mjoin\u001b[0m\u001b[0;34m(\u001b[0m\u001b[0mimage_path\u001b[0m\u001b[0;34m,\u001b[0m \u001b[0mimage_name\u001b[0m\u001b[0;34m)\u001b[0m\u001b[0;34m)\u001b[0m\u001b[0;34m)\u001b[0m\u001b[0;34m\u001b[0m\u001b[0m\n\u001b[1;32m      5\u001b[0m     \u001b[0mdimensions\u001b[0m \u001b[0;34m=\u001b[0m \u001b[0mimage\u001b[0m\u001b[0;34m.\u001b[0m\u001b[0mshape\u001b[0m\u001b[0;34m[\u001b[0m\u001b[0;36m0\u001b[0m\u001b[0;34m]\u001b[0m \u001b[0;34m*\u001b[0m \u001b[0mimage\u001b[0m\u001b[0;34m.\u001b[0m\u001b[0mshape\u001b[0m\u001b[0;34m[\u001b[0m\u001b[0;36m1\u001b[0m\u001b[0;34m]\u001b[0m\u001b[0;34m\u001b[0m\u001b[0m\n",
      "\u001b[0;31mNameError\u001b[0m: name 'os' is not defined"
     ]
    }
   ],
   "source": [
    "image_dictionary = {}\n",
    "image_names = [image for image in os.listdir(image_path) if not image.startswith('.')]\n",
    "for image_name in image_names:\n",
    "    image = np.asarray(Image.open(os.path.join(image_path, image_name)))\n",
    "    dimensions = image.shape[0] * image.shape[1]\n",
    "    downsample_factor = dimensions // default_size\n",
    "    img = scikit-image.transform.pyramid_reduce(image, downscale=downsample_factor)\n",
    "    if len(image.shape) > 2:\n",
    "        image_dictionary[image_name] = scikit-image.color.rgb2gray(img)\n",
    "    else:\n",
    "        image_dictionary[image_name] = img\n",
    "vector_matrix = get_vector_representation(image_dictionary)\n",
    "pca = get_pca(vector_matrix)"
   ]
  }
 ],
 "metadata": {
  "kernelspec": {
   "display_name": "Python 3",
   "language": "python",
   "name": "python3"
  },
  "language_info": {
   "codemirror_mode": {
    "name": "ipython",
    "version": 3
   },
   "file_extension": ".py",
   "mimetype": "text/x-python",
   "name": "python",
   "nbconvert_exporter": "python",
   "pygments_lexer": "ipython3",
   "version": "3.5.2"
  }
 },
 "nbformat": 4,
 "nbformat_minor": 2
}
