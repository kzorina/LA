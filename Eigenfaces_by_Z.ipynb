{
 "cells": [
  {
   "cell_type": "code",
   "execution_count": 33,
   "metadata": {},
   "outputs": [],
   "source": [
    "import os\n",
    "import numpy as np\n",
    "from PIL import Image\n",
    "import matplotlib.pyplot as plt\n",
    "from skimage.transform import rescale\n",
    "%matplotlib inline\n",
    "DATA_DIR = 'yalefaces'\n",
    "#DEFAULT_IMAGE_SIZE = 77760\n",
    "#DEFAULT_IMAGE_SIZE = 12416\n",
    "SCALE_PARAMETER = 0.3"
   ]
  },
  {
   "cell_type": "code",
   "execution_count": 34,
   "metadata": {},
   "outputs": [
    {
     "name": "stdout",
     "output_type": "stream",
     "text": [
      "(73, 96)\n",
      "(165, 7008)\n"
     ]
    }
   ],
   "source": [
    "face_matrix = []\n",
    "for file in os.listdir(DATA_DIR):\n",
    "    #print(os.path.join(DATA_DIR,file))\n",
    "    image_path = os.path.join(DATA_DIR,file)\n",
    "    image = Image.open(image_path)\n",
    "    image = np.asarray(image)\n",
    "    image = rescale(image,SCALE_PARAMETER,mode='reflect')\n",
    "    #image = image.resize((141,185),Image.ANTIALIAS)\n",
    "    image_vector = image.flatten()\n",
    "    #image.save(\"Compressed_\"+file,\"JPEG\",optimize=True,quality=85)\n",
    "    #print(np.asarray(image).shape)\n",
    "    #image = Image.open(\"Compressed_\"+file)\n",
    "    #image_vector = np.asarray(image).flatten()\n",
    "    \n",
    "    face_matrix.append(image_vector)\n",
    "#print(type(np.array(face_matrix)))\n",
    "print(image.shape)\n",
    "image_shape = image.shape\n",
    "print(np.array(face_matrix).shape)\n",
    "face_matrix = np.array(face_matrix)"
   ]
  },
  {
   "cell_type": "code",
   "execution_count": 35,
   "metadata": {},
   "outputs": [
    {
     "data": {
      "image/png": "[encoded data removed]",
      "text/plain": [
       "<matplotlib.figure.Figure at 0x7f00aff12e10>"
      ]
     },
     "metadata": {},
     "output_type": "display_data"
    }
   ],
   "source": [
    "#print(type(face_matrix))\n",
    "mean_face = face_matrix.mean(axis=0)\n",
    "#print(type(mean_face[0]))\n",
    "#print(mean_face.shape)\n",
    "plt.imshow(mean_face.reshape(image_shape[0],image_shape[1]), cmap=plt.cm.gray)\n",
    "for column in face_matrix:\n",
    "    #print(column.shape)\n",
    "    #print(type(column[0]))\n",
    "    column = column.astype('float64')\n",
    "    column -= mean_face"
   ]
  },
  {
   "cell_type": "code",
   "execution_count": 36,
   "metadata": {},
   "outputs": [
    {
     "ename": "MemoryError",
     "evalue": "",
     "output_type": "error",
     "traceback": [
      "\u001b[0;31m---------------------------------------------------------------------------\u001b[0m",
      "\u001b[0;31mMemoryError\u001b[0m                               Traceback (most recent call last)",
      "\u001b[0;32m<ipython-input-36-4d2483cf145c>\u001b[0m in \u001b[0;36m<module>\u001b[0;34m()\u001b[0m\n\u001b[0;32m----> 1\u001b[0;31m \u001b[0mcov_face_matrix\u001b[0m \u001b[0;34m=\u001b[0m \u001b[0mnp\u001b[0m\u001b[0;34m.\u001b[0m\u001b[0mdot\u001b[0m\u001b[0;34m(\u001b[0m\u001b[0mface_matrix\u001b[0m\u001b[0;34m.\u001b[0m\u001b[0mT\u001b[0m\u001b[0;34m,\u001b[0m\u001b[0mface_matrix\u001b[0m\u001b[0;34m)\u001b[0m\u001b[0;34m\u001b[0m\u001b[0m\n\u001b[0m\u001b[1;32m      2\u001b[0m \u001b[0mu\u001b[0m\u001b[0;34m,\u001b[0m \u001b[0ms\u001b[0m\u001b[0;34m,\u001b[0m \u001b[0mv\u001b[0m \u001b[0;34m=\u001b[0m \u001b[0mnp\u001b[0m\u001b[0;34m.\u001b[0m\u001b[0mlinalg\u001b[0m\u001b[0;34m.\u001b[0m\u001b[0msvd\u001b[0m\u001b[0;34m(\u001b[0m\u001b[0mcov_face_matrix\u001b[0m\u001b[0;34m)\u001b[0m\u001b[0;34m\u001b[0m\u001b[0m\n\u001b[1;32m      3\u001b[0m \u001b[0mprint\u001b[0m\u001b[0;34m(\u001b[0m\u001b[0ms\u001b[0m\u001b[0;34m)\u001b[0m\u001b[0;34m\u001b[0m\u001b[0m\n\u001b[1;32m      4\u001b[0m \u001b[0meigen_faces\u001b[0m \u001b[0;34m=\u001b[0m \u001b[0mv\u001b[0m\u001b[0;34m\u001b[0m\u001b[0m\n\u001b[1;32m      5\u001b[0m \u001b[0mcounter\u001b[0m \u001b[0;34m=\u001b[0m \u001b[0;36m0\u001b[0m\u001b[0;34m\u001b[0m\u001b[0m\n",
      "\u001b[0;31mMemoryError\u001b[0m: "
     ]
    }
   ],
   "source": [
    "cov_face_matrix = np.dot(face_matrix.T,face_matrix)\n",
    "u, s, v = np.linalg.svd(cov_face_matrix)\n",
    "print(s)\n",
    "eigen_faces = v\n",
    "counter = 0\n",
    "for eigen_face in eigen_faces:\n",
    "    if (counter<10):\n",
    "        plt.imshow(eigen_face.reshape(image_shape[0],image_shape[1]), cmap=plt.cm.gray)\n",
    "    counter+=1"
   ]
  }
 ],
 "metadata": {
  "kernelspec": {
   "display_name": "Python 3",
   "language": "python",
   "name": "python3"
  },
  "language_info": {
   "codemirror_mode": {
    "name": "ipython",
    "version": 3
   },
   "file_extension": ".py",
   "mimetype": "text/x-python",
   "name": "python",
   "nbconvert_exporter": "python",
   "pygments_lexer": "ipython3",
   "version": "3.5.2"
  }
 },
 "nbformat": 4,
 "nbformat_minor": 2
}
